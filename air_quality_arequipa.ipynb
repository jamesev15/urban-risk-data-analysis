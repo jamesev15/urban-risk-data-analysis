{
 "cells": [
  {
   "cell_type": "markdown",
   "id": "263f15a1",
   "metadata": {},
   "source": [
    "# Load Google Air Quality Token\n",
    "\n",
    "Obtaining api token: https://developers.google.com/maps/documentation/air-quality/get-api-key?hl=es-419\n",
    "\n",
    "Please execute the following command to install the required packages:\n",
    "\n",
    "```bash\n",
    "pip install -r requirements.txt \n",
    "```\n",
    "\n",
    "before running the notebook"
   ]
  },
  {
   "cell_type": "code",
   "execution_count": 52,
   "id": "2c28e8f4",
   "metadata": {},
   "outputs": [
    {
     "data": {
      "text/plain": [
       "True"
      ]
     },
     "execution_count": 52,
     "metadata": {},
     "output_type": "execute_result"
    }
   ],
   "source": [
    "from dotenv import load_dotenv\n",
    "\n",
    "load_dotenv()"
   ]
  },
  {
   "cell_type": "markdown",
   "id": "400f8606",
   "metadata": {},
   "source": [
    "# Air Quality Class for data from Google Air Quality API"
   ]
  },
  {
   "cell_type": "code",
   "execution_count": 53,
   "id": "a764bd44",
   "metadata": {},
   "outputs": [],
   "source": [
    "import httpx\n",
    "import os\n",
    "from enum import Enum\n",
    "\n",
    "class ExtraComputations(str, Enum):\n",
    "    EXTRA_COMPUTATION_UNSPECIFIED = \"EXTRA_COMPUTATION_UNSPECIFIED\"\n",
    "    LOCAL_AQI = \"LOCAL_AQI\"\n",
    "    HEALTH_RECOMMENDATIONS = \"HEALTH_RECOMMENDATIONS\"\n",
    "    POLLUTANT_ADDITIONAL_INFO = \"POLLUTANT_ADDITIONAL_INFO\"\n",
    "    DOMINANT_POLLUTANT_CONCENTRATION = \"DOMINANT_POLLUTANT_CONCENTRATION\"\n",
    "    POLLUTANT_CONCENTRATION = \"POLLUTANT_CONCENTRATION\"\n",
    "\n",
    "\n",
    "class AirQuality:\n",
    "    base_url: str\n",
    "    headers: dict\n",
    "    query_params: dict\n",
    "    http_client: httpx.AsyncClient\n",
    "\n",
    "    def __init__(self, base_url: str = \"https://airquality.googleapis.com/v1\") -> None:\n",
    "        self.base_url = base_url\n",
    "        self.headers = {\"Content-Type\": \"application/json\"}\n",
    "        self.query_params = {\"key\": os.getenv(\"GOOGLE_AIR_QUALITY_TOKEN\")}\n",
    "        self.http_client = httpx.AsyncClient()\n",
    "    \n",
    "    async def get_current_conditions(self, latitude: float, longitude: float, extra_computations: list[ExtraComputations]) -> dict | None:\n",
    "        url = f\"{self.base_url}/currentConditions:lookup\"\n",
    "        \n",
    "        payload = {\n",
    "            \"location\": {\n",
    "                \"latitude\": latitude,\n",
    "                \"longitude\": longitude\n",
    "            },\n",
    "            \"extraComputations\": extra_computations\n",
    "        }\n",
    "\n",
    "        try:\n",
    "            response = await self.http_client.post(\n",
    "                url=url,\n",
    "                headers=self.headers,\n",
    "                params=self.query_params,\n",
    "                json=payload\n",
    "            )\n",
    "            response.raise_for_status()\n",
    "            return response.json()\n",
    "        except Exception as e:\n",
    "            print(f\"Current conditions error for lat={latitude},long={longitude}. Error={e}\")\n",
    "            return None\n",
    "\n",
    "    async def get_history_conditions(\n",
    "        self,\n",
    "        latitude: float,\n",
    "        longitude: float,\n",
    "        hours: int,\n",
    "        extra_computations: list[ExtraComputations]\n",
    "    ) -> list[dict]:\n",
    "        \n",
    "        url = f\"{self.base_url}/history:lookup\"\n",
    "\n",
    "        payload = {\n",
    "            \"hours\": hours,\n",
    "            \"pageSize\": 72, # default value: 72\n",
    "            \"pageToken\": \"\",\n",
    "            \"location\": {\n",
    "                \"latitude\": latitude,\n",
    "                \"longitude\": longitude\n",
    "            },\n",
    "            \"extraComputations\": extra_computations\n",
    "        }\n",
    "\n",
    "        points = []\n",
    "        next_page_token = True\n",
    "        # Start request\n",
    "        while next_page_token:\n",
    "            response = await self.http_client.post(\n",
    "                url=url,\n",
    "                headers=self.headers,\n",
    "                params=self.query_params,\n",
    "                json=payload\n",
    "            )\n",
    "\n",
    "            data: dict = response.json()\n",
    "            points.extend(data[\"hoursInfo\"])\n",
    "            next_page_token = data.get(\"nextPageToken\") \n",
    "            payload.update({\"pageToken\": next_page_token})\n",
    "\n",
    "        return points\n"
   ]
  },
  {
   "cell_type": "markdown",
   "id": "e112572b",
   "metadata": {},
   "source": [
    "# Load districts with points based on Metropolitan Arequipa"
   ]
  },
  {
   "cell_type": "code",
   "execution_count": 54,
   "id": "61b92a94",
   "metadata": {},
   "outputs": [],
   "source": [
    "import json\n",
    "\n",
    "with open(\"arequipa-districst-points.json\", \"r\") as f:\n",
    "    districts: dict = json.loads(f.read())\n"
   ]
  },
  {
   "cell_type": "markdown",
   "id": "1656ae53",
   "metadata": {},
   "source": [
    "# Get history data and dumps per district and point into a JSONL"
   ]
  },
  {
   "cell_type": "code",
   "execution_count": 55,
   "id": "b6c5203a",
   "metadata": {},
   "outputs": [],
   "source": [
    "air_quality = AirQuality()"
   ]
  },
  {
   "cell_type": "code",
   "execution_count": 56,
   "id": "c04d7b48",
   "metadata": {},
   "outputs": [
    {
     "name": "stdout",
     "output_type": "stream",
     "text": [
      "Getting air quality data in Arequipa, Arequipa, Peru for 3 points ...\n",
      "Getting air quality data in Alto Selva Alegre, Arequipa, Peru for 5 points ...\n",
      "Getting air quality data in Cayma, Arequipa, Peru for 5 points ...\n",
      "Getting air quality data in Cerro Colorado, Arequipa, Peru for 5 points ...\n",
      "Getting air quality data in Characato, Arequipa, Peru for 5 points ...\n",
      "Getting air quality data in Chiguata, Arequipa, Peru for 5 points ...\n",
      "Getting air quality data in Jacobo Hunter, Arequipa, Peru for 4 points ...\n",
      "Getting air quality data in José Luis Bustamante y Rivero, Arequipa, Peru for 2 points ...\n",
      "Getting air quality data in La Joya, Arequipa, Peru for 5 points ...\n",
      "Getting air quality data in Mariano Melgar, Arequipa, Peru for 4 points ...\n",
      "Getting air quality data in Miraflores, Arequipa, Peru for 2 points ...\n",
      "Getting air quality data in Mollebaya, Arequipa, Peru for 5 points ...\n",
      "Getting air quality data in Paucarpata, Arequipa, Peru for 5 points ...\n",
      "Getting air quality data in Pocsi, Arequipa, Peru for 5 points ...\n",
      "Getting air quality data in Polobaya, Arequipa, Peru for 5 points ...\n",
      "Getting air quality data in Quequeña, Arequipa, Peru for 5 points ...\n",
      "Getting air quality data in Sabandía, Arequipa, Peru for 5 points ...\n",
      "Getting air quality data in Sachaca, Arequipa, Peru for 5 points ...\n",
      "Getting air quality data in San Juan de Siguas, Arequipa, Peru for 5 points ...\n",
      "Getting air quality data in San Juan de Tarucani, Arequipa, Peru for 5 points ...\n",
      "Getting air quality data in Santa Isabel de Siguas, Arequipa, Peru for 5 points ...\n",
      "Getting air quality data in Santa Rita de Siguas, Arequipa, Peru for 5 points ...\n",
      "Getting air quality data in Socabaya, Arequipa, Peru for 5 points ...\n",
      "Getting air quality data in Tiabaya, Arequipa, Peru for 4 points ...\n",
      "Getting air quality data in Uchumayo, Arequipa, Peru for 5 points ...\n",
      "Getting air quality data in Vítor, Arequipa, Peru for 5 points ...\n",
      "Getting air quality data in Yanahuara, Arequipa, Peru for 1 points ...\n",
      "Getting air quality data in Yarabamba, Arequipa, Peru for 5 points ...\n",
      "Getting air quality data in Yura, Arequipa, Peru for 5 points ...\n"
     ]
    }
   ],
   "source": [
    "import asyncio\n",
    "import pathlib\n",
    "\n",
    "air_quality_dir = pathlib.Path(\"air-data\")\n",
    "\n",
    "for district_name, points in districts.items():\n",
    "    print(f\"Getting air quality data in {district_name} for {len(points)} points ...\")\n",
    "    tasks = []\n",
    "    for point in points:\n",
    "        tasks.append(air_quality.get_history_conditions(\n",
    "            latitude=point[0],\n",
    "            longitude=point[1],\n",
    "            hours=720,\n",
    "            extra_computations=[ExtraComputations.POLLUTANT_CONCENTRATION, ExtraComputations.HEALTH_RECOMMENDATIONS],\n",
    "        ))\n",
    "\n",
    "    results = await asyncio.gather(*tasks, return_exceptions=True)\n",
    "    for (i, result), point in zip(enumerate(results), points):\n",
    "        if isinstance(result, Exception):\n",
    "            print(f\"{district_name} couldn't get air quality data. Skip it, error {result}\")\n",
    "            continue\n",
    "\n",
    "        district_name_normalized = district_name.strip().replace(\" \", \"\").replace(\",\", \"_\").lower()\n",
    "        fname = air_quality_dir / pathlib.Path(f\"{district_name_normalized}_{i}.jsonl\")\n",
    "\n",
    "        with open(fname, \"w\") as f:\n",
    "            for record in result:\n",
    "                record[\"latitude\"] = point[0]\n",
    "                record[\"longitude\"] = point[1]\n",
    "                record[\"point\"] = f\"{district_name_normalized}_{i}\"\n",
    "                f.write(json.dumps(record) + \"\\n\")\n"
   ]
  }
 ],
 "metadata": {
  "kernelspec": {
   "display_name": ".venv",
   "language": "python",
   "name": "python3"
  },
  "language_info": {
   "codemirror_mode": {
    "name": "ipython",
    "version": 3
   },
   "file_extension": ".py",
   "mimetype": "text/x-python",
   "name": "python",
   "nbconvert_exporter": "python",
   "pygments_lexer": "ipython3",
   "version": "3.10.12"
  }
 },
 "nbformat": 4,
 "nbformat_minor": 5
}
